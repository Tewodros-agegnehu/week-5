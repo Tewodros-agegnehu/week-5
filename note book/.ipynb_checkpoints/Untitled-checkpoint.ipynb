{
 "cells": [
  {
   "cell_type": "code",
   "execution_count": null,
   "id": "bc89b34d-b058-4fcc-8a9a-88871b4d353a",
   "metadata": {},
   "outputs": [],
   "source": []
  },
  {
   "cell_type": "code",
   "execution_count": null,
   "id": "9438d961-0b9c-4215-9f80-850d80b93d28",
   "metadata": {},
   "outputs": [],
   "source": []
  },
  {
   "cell_type": "code",
   "execution_count": null,
   "id": "e29c0e53-584f-4b52-99ea-ac8794a6799f",
   "metadata": {},
   "outputs": [],
   "source": [
    "from telethon import TelegramClient\n",
    "import csv\n",
    "import os\n",
    "from dotenv import load_dotenv\n",
    "\n",
    "\n",
    "\n",
    "# Load environment variables once\n",
    "# load_dotenv('.env')\n",
    "api_id = \"13063821\"\n",
    "api_hash = \"970ec47b818f951753a7f1ce93f762fb\"\n",
    "phone = \"+251983408740\"\n",
    "\n",
    "# Function to scrape data from a single channel\n",
    "async def scrape_channel(client, channel_username, writer, media_dir):\n",
    "    entity = await client.get_entity(channel_username)\n",
    "    channel_title = entity.title  # Extract the channel's title\n",
    "    async for message in client.iter_messages(entity, limit=10000):\n",
    "        media_path = None\n",
    "        if message.media and hasattr(message.media, 'photo'):\n",
    "            # Create a unique filename for the photo\n",
    "            filename = f\"{channel_username}_{message.id}.jpg\"\n",
    "            media_path = os.path.join(media_dir, filename)\n",
    "            # Download the media to the specified directory if it's a photo\n",
    "            await client.download_media(message.media, media_path)\n",
    "        \n",
    "        # Write the channel title along with other data\n",
    "        writer.writerow([channel_title, channel_username, message.id, message.message, message.date, media_path])\n",
    "\n",
    "# Initialize the client once\n",
    "client = TelegramClient('scraping_session', api_id, api_hash)\n",
    "\n",
    "async def main():\n",
    "    await client.start()\n",
    "    \n",
    "    # Create a directory for media files\n",
    "    media_dir = 'photos'\n",
    "    os.makedirs(media_dir, exist_ok=True)\n",
    "\n",
    "    # Open the CSV file and prepare the writer\n",
    "    with open('telegram_data.csv', 'w', newline='', encoding='utf-8') as file:\n",
    "        writer = csv.writer(file)\n",
    "        writer.writerow(['Channel Title', 'Channel Username', 'ID', 'Message', 'Date', 'Media Path'])  # Include channel title in the header\n",
    "        \n",
    "        # List of channels to scrape\n",
    "        channels = [\n",
    "            '@Shageronlinestore',  # Existing channel\n",
    "                 # You can add more channels here\n",
    "            \n",
    "        ]\n",
    "        \n",
    "        # Iterate over channels and scrape data into the single CSV file\n",
    "        for channel in channels:\n",
    "            await scrape_channel(client, channel, writer, media_dir)\n",
    "            print(f\"Scraped data from {channel}\")\n",
    "\n",
    "with client:\n",
    "    client.loop.run_until_complete(main())\n"
   ]
  },
  {
   "cell_type": "code",
   "execution_count": null,
   "id": "a2f189e5-0c71-4116-a685-7329c81bc414",
   "metadata": {},
   "outputs": [],
   "source": []
  }
 ],
 "metadata": {
  "kernelspec": {
   "display_name": "Python 3 (ipykernel)",
   "language": "python",
   "name": "python3"
  },
  "language_info": {
   "codemirror_mode": {
    "name": "ipython",
    "version": 3
   },
   "file_extension": ".py",
   "mimetype": "text/x-python",
   "name": "python",
   "nbconvert_exporter": "python",
   "pygments_lexer": "ipython3",
   "version": "3.12.4"
  }
 },
 "nbformat": 4,
 "nbformat_minor": 5
}
